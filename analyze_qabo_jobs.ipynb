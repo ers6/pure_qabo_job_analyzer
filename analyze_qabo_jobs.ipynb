{
 "cells": [
  {
   "cell_type": "code",
   "execution_count": 1,
   "id": "6c471ee8",
   "metadata": {},
   "outputs": [],
   "source": [
    "import pandas as pd\n",
    "import os"
   ]
  },
  {
   "cell_type": "markdown",
   "id": "0fb1f8f5",
   "metadata": {},
   "source": [
    "# Analyze QABO Jobs\n",
    "Creates dataframes of scholarship in Pure and compares them to each other to determine if a RO was removed following a QABO job."
   ]
  },
  {
   "cell_type": "markdown",
   "id": "81e06059",
   "metadata": {},
   "source": [
    "## Create QABO Job Logs\n",
    "\n",
    "Combines csv files created from the QABO job log report in reporting to build a dataframe of metadata."
   ]
  },
  {
   "cell_type": "code",
   "execution_count": 24,
   "id": "d994dd61",
   "metadata": {},
   "outputs": [],
   "source": [
    "this_dir = \"/Users/e.schwartz/Documents/profiles/qabo_job_logs/\"\n"
   ]
  },
  {
   "cell_type": "code",
   "execution_count": 25,
   "id": "d34c3196",
   "metadata": {},
   "outputs": [],
   "source": [
    "subfolders= [f.path for f in os.scandir(this_dir) if f.is_dir()]"
   ]
  },
  {
   "cell_type": "code",
   "execution_count": 26,
   "id": "15e5d123",
   "metadata": {},
   "outputs": [
    {
     "data": {
      "text/plain": [
       "['/Users/e.schwartz/Documents/profiles/qabo_job_logs/20250327_ros',\n",
       " '/Users/e.schwartz/Documents/profiles/qabo_job_logs/20250320_ros',\n",
       " '/Users/e.schwartz/Documents/profiles/qabo_job_logs/20250402_ros',\n",
       " '/Users/e.schwartz/Documents/profiles/qabo_job_logs/20250417_ros',\n",
       " '/Users/e.schwartz/Documents/profiles/qabo_job_logs/20250410_ros',\n",
       " '/Users/e.schwartz/Documents/profiles/qabo_job_logs/.ipynb_checkpoints',\n",
       " '/Users/e.schwartz/Documents/profiles/qabo_job_logs/20250312_ros']"
      ]
     },
     "execution_count": 26,
     "metadata": {},
     "output_type": "execute_result"
    }
   ],
   "source": [
    "subfolders"
   ]
  },
  {
   "cell_type": "code",
   "execution_count": null,
   "id": "fcfb6429",
   "metadata": {},
   "outputs": [],
   "source": []
  },
  {
   "cell_type": "code",
   "execution_count": 27,
   "id": "5c53db01",
   "metadata": {},
   "outputs": [
    {
     "name": "stdout",
     "output_type": "stream",
     "text": [
      "/Users/e.schwartz/Documents/profiles/qabo_job_logs/20250327_ros\n",
      "/Users/e.schwartz/Documents/profiles/qabo_job_logs/20250320_ros\n",
      "/Users/e.schwartz/Documents/profiles/qabo_job_logs/20250402_ros\n",
      "fnf\n",
      "/Users/e.schwartz/Documents/profiles/qabo_job_logs/20250417_ros\n",
      "fnf\n",
      "/Users/e.schwartz/Documents/profiles/qabo_job_logs/20250410_ros\n",
      "fnf\n",
      "/Users/e.schwartz/Documents/profiles/qabo_job_logs/.ipynb_checkpoints\n",
      "/Users/e.schwartz/Documents/profiles/qabo_job_logs/20250312_ros\n"
     ]
    }
   ],
   "source": [
    "for this_folder in subfolders: \n",
    "    qabo_job_name = this_folder.split('/')[6]\n",
    "    try:\n",
    "        created_date = pd.read_csv(this_folder+'/created_date.csv')\n",
    "        doi = pd.read_csv(this_folder+'/doi.csv')\n",
    "        issn = pd.read_csv(this_folder+'/issn.csv')\n",
    "        journal_title = pd.read_csv(this_folder+'/journal_title.csv')\n",
    "        last_modified = pd.read_csv(this_folder+'/last_modified.csv')\n",
    "        publisher = pd.read_csv(this_folder+'/publisher.csv')\n",
    "        qabo_ids = pd.read_csv(this_folder+'/qabo_ids.csv')\n",
    "        scopus_id = pd.read_csv(this_folder+'/scopus_id.csv')\n",
    "        title = pd.read_csv(this_folder+'/title.csv')\n",
    "        year = pd.read_csv(this_folder+'/year.csv')\n",
    "       \n",
    "        \n",
    "    except FileNotFoundError: \n",
    "        print('fnf')\n",
    "        pass\n",
    "    print(this_folder)\n",
    "    df_merged = created_date.merge(doi[['Pure ID', 'DOIs (Digital Object Identifiers)']], on='Pure ID')\n",
    "    df_merged = df_merged.merge(issn[['Pure ID', 'Journal ISSN']], on= 'Pure ID')\n",
    "    df_merged = df_merged.merge(journal_title[['Pure ID', 'Journal title']], on='Pure ID')\n",
    "    df_merged = df_merged.merge(last_modified[['Pure ID', 'Last modified date']], on='Pure ID')\n",
    "    df_merged = df_merged.merge(publisher[['Pure ID', 'Publisher']], on= 'Pure ID')\n",
    "    df_merged = df_merged.merge(scopus_id[['Pure ID', 'Publication import ID']], on='Pure ID')\n",
    "    df_merged = df_merged.merge(title[['Pure ID', 'Title']], on = 'Pure ID')\n",
    "    df_merged = df_merged.merge(year[['Pure ID', 'Year']], on = 'Pure ID')\n",
    "    df_merged = df_merged.merge(qabo_ids[['Pure ID', 'Additional source IDs']], on = 'Pure ID')\n",
    "    df_merged.to_csv(this_dir + qabo_job_name + '.csv')"
   ]
  },
  {
   "cell_type": "code",
   "execution_count": 28,
   "id": "bf13a5ea",
   "metadata": {},
   "outputs": [],
   "source": [
    "# subfolders = ['/Users/e.schwartz/Documents/profiles/qabo_job_logs/20250402_ros']\n",
    "# for this_folder in subfolders: \n",
    "#     qabo_job_name = this_folder.split('/')[6]\n",
    "#     created_date = pd.read_csv(this_folder+'/created_date.csv')\n",
    "#     doi = pd.read_csv(this_folder+'/doi.csv')\n",
    "#     issn = pd.read_csv(this_folder+'/issn.csv')\n",
    "#     journal_title = pd.read_csv(this_folder+'/journal_title.csv')\n",
    "#     last_modified = pd.read_csv(this_folder+'/last_modified.csv')\n",
    "#     publisher = pd.read_csv(this_folder+'/publisher.csv')\n",
    "#     qabo_ids = pd.read_csv(this_folder+'/qabo_ids.csv')\n",
    "#     scopus_id = pd.read_csv(this_folder+'/scopus_id.csv')\n",
    "#     title = pd.read_csv(this_folder+'/title.csv')\n",
    "#     year = pd.read_csv(this_folder+'/year.csv')"
   ]
  },
  {
   "cell_type": "code",
   "execution_count": 29,
   "id": "dba83e02",
   "metadata": {},
   "outputs": [],
   "source": [
    "# print(len(created_date))\n",
    "# print(len(issn))\n",
    "# print(len(journal_title))\n",
    "# print(len(last_modified))\n",
    "# print(len(publisher))\n",
    "# print(len(qabo_ids))\n",
    "# print(len(scopus_id))\n",
    "# print(len(title))\n",
    "# print(len(year))\n"
   ]
  },
  {
   "cell_type": "code",
   "execution_count": 30,
   "id": "e26d88b1",
   "metadata": {},
   "outputs": [],
   "source": [
    "# test_df  = pd.read_csv(\"/Users/e.schwartz/Documents/profiles/qabo_job_logs/20250402_rostest.csv\")"
   ]
  },
  {
   "cell_type": "code",
   "execution_count": 31,
   "id": "c2a4b2e6",
   "metadata": {},
   "outputs": [],
   "source": [
    "# test_df"
   ]
  },
  {
   "cell_type": "markdown",
   "id": "abf78bb5",
   "metadata": {},
   "source": [
    "## Analyze QABO Results"
   ]
  },
  {
   "cell_type": "code",
   "execution_count": 67,
   "id": "6a6aabb0",
   "metadata": {},
   "outputs": [],
   "source": [
    "past_qabo = pd.read_csv(this_dir + \"20250410_ros.csv\")"
   ]
  },
  {
   "cell_type": "code",
   "execution_count": 68,
   "id": "031ebb1b",
   "metadata": {},
   "outputs": [],
   "source": [
    "current_qabo = pd.read_csv(this_dir + \"20250417_ros.csv\")"
   ]
  },
  {
   "cell_type": "code",
   "execution_count": 69,
   "id": "b0a98b23",
   "metadata": {},
   "outputs": [
    {
     "data": {
      "text/plain": [
       "200782"
      ]
     },
     "execution_count": 69,
     "metadata": {},
     "output_type": "execute_result"
    }
   ],
   "source": [
    "len(past_qabo)\n",
    "\n"
   ]
  },
  {
   "cell_type": "code",
   "execution_count": 70,
   "id": "e4cce50d",
   "metadata": {},
   "outputs": [
    {
     "data": {
      "text/plain": [
       "200754"
      ]
     },
     "execution_count": 70,
     "metadata": {},
     "output_type": "execute_result"
    }
   ],
   "source": [
    "len(current_qabo)"
   ]
  },
  {
   "cell_type": "code",
   "execution_count": 71,
   "id": "d53f48cd",
   "metadata": {},
   "outputs": [],
   "source": [
    "past_ids = past_qabo['Pure ID'].tolist()\n",
    "current_ids = current_qabo['Pure ID'].tolist()"
   ]
  },
  {
   "cell_type": "code",
   "execution_count": 72,
   "id": "bc0f0ba0",
   "metadata": {},
   "outputs": [
    {
     "data": {
      "text/plain": [
       "list"
      ]
     },
     "execution_count": 72,
     "metadata": {},
     "output_type": "execute_result"
    }
   ],
   "source": [
    "type(current_ids)"
   ]
  },
  {
   "cell_type": "code",
   "execution_count": 38,
   "id": "74bd0675",
   "metadata": {},
   "outputs": [],
   "source": [
    "#  past_ids = past_ids.tolist()"
   ]
  },
  {
   "cell_type": "code",
   "execution_count": 39,
   "id": "710cb5ef",
   "metadata": {},
   "outputs": [],
   "source": [
    "# current_ids.where(current_ids not in past_ids)"
   ]
  },
  {
   "cell_type": "code",
   "execution_count": 73,
   "id": "d714a134",
   "metadata": {},
   "outputs": [],
   "source": [
    "missing_ids = []\n",
    "for this_id in past_ids: \n",
    "    if this_id not in current_ids: \n",
    "        missing_ids.append(this_id)\n",
    "    else: pass\n",
    "        "
   ]
  },
  {
   "cell_type": "code",
   "execution_count": 74,
   "id": "cfaa6dca",
   "metadata": {},
   "outputs": [
    {
     "data": {
      "text/plain": [
       "28"
      ]
     },
     "execution_count": 74,
     "metadata": {},
     "output_type": "execute_result"
    }
   ],
   "source": [
    "len(missing_ids)"
   ]
  },
  {
   "cell_type": "code",
   "execution_count": 75,
   "id": "ba96d47a",
   "metadata": {},
   "outputs": [],
   "source": [
    "missing_ros = past_qabo.loc[past_qabo['Pure ID'].isin(missing_ids)]"
   ]
  },
  {
   "cell_type": "code",
   "execution_count": 76,
   "id": "5d23d901",
   "metadata": {},
   "outputs": [],
   "source": [
    "missing_ros.to_csv('missing_ros_20250417_present_20250410.csv')"
   ]
  },
  {
   "cell_type": "code",
   "execution_count": 65,
   "id": "639a53c5",
   "metadata": {},
   "outputs": [
    {
     "data": {
      "text/html": [
       "<div>\n",
       "<style scoped>\n",
       "    .dataframe tbody tr th:only-of-type {\n",
       "        vertical-align: middle;\n",
       "    }\n",
       "\n",
       "    .dataframe tbody tr th {\n",
       "        vertical-align: top;\n",
       "    }\n",
       "\n",
       "    .dataframe thead th {\n",
       "        text-align: right;\n",
       "    }\n",
       "</style>\n",
       "<table border=\"1\" class=\"dataframe\">\n",
       "  <thead>\n",
       "    <tr style=\"text-align: right;\">\n",
       "      <th></th>\n",
       "      <th>Unnamed: 0</th>\n",
       "      <th>Pure ID</th>\n",
       "      <th>Created date</th>\n",
       "      <th>DOIs (Digital Object Identifiers)</th>\n",
       "      <th>Journal ISSN</th>\n",
       "      <th>Journal title</th>\n",
       "      <th>Last modified date</th>\n",
       "      <th>Publisher</th>\n",
       "      <th>Publication import ID</th>\n",
       "      <th>Title</th>\n",
       "      <th>Year</th>\n",
       "      <th>Additional source IDs</th>\n",
       "    </tr>\n",
       "  </thead>\n",
       "  <tbody>\n",
       "    <tr>\n",
       "      <th>60</th>\n",
       "      <td>60</td>\n",
       "      <td>2149420450</td>\n",
       "      <td>2025-03-11 06:33:33.797</td>\n",
       "      <td>10.1080/13803395.2025.2464633</td>\n",
       "      <td>1380-3395</td>\n",
       "      <td>Journal of Clinical and Experimental Neuropsyc...</td>\n",
       "      <td>2025-03-12 01:18:39.655</td>\n",
       "      <td>NaN</td>\n",
       "      <td>8.521825e+10</td>\n",
       "      <td>Usability of the Mayo Test Drive remote self-a...</td>\n",
       "      <td>2025</td>\n",
       "      <td>PubMed:  39976252 // QABO:  85218252595</td>\n",
       "    </tr>\n",
       "    <tr>\n",
       "      <th>137</th>\n",
       "      <td>137</td>\n",
       "      <td>2097874378</td>\n",
       "      <td>2025-02-25 13:16:44.131</td>\n",
       "      <td>10.1016/j.adro.2023.101350</td>\n",
       "      <td>NaN</td>\n",
       "      <td>Advances in Radiation Oncology</td>\n",
       "      <td>2025-02-28 13:24:20.432</td>\n",
       "      <td>NaN</td>\n",
       "      <td>8.517293e+10</td>\n",
       "      <td>An Integrative Medicine Educational Program fo...</td>\n",
       "      <td>2024</td>\n",
       "      <td>NaN</td>\n",
       "    </tr>\n",
       "    <tr>\n",
       "      <th>188</th>\n",
       "      <td>188</td>\n",
       "      <td>2095172247</td>\n",
       "      <td>2025-02-25 06:46:47.607</td>\n",
       "      <td>10.1007/s12178-024-09943-6</td>\n",
       "      <td>1935-973X</td>\n",
       "      <td>Current Reviews in Musculoskeletal Medicine</td>\n",
       "      <td>2025-02-26 06:13:15.968</td>\n",
       "      <td>NaN</td>\n",
       "      <td>8.521727e+10</td>\n",
       "      <td>Navigating the Complexities of Range of Motion...</td>\n",
       "      <td>2025</td>\n",
       "      <td>PubMed:  39779596 // QABO:  85217266695</td>\n",
       "    </tr>\n",
       "    <tr>\n",
       "      <th>307</th>\n",
       "      <td>307</td>\n",
       "      <td>2080881783</td>\n",
       "      <td>2025-02-18 06:30:14.08</td>\n",
       "      <td>10.1177/03635465241313135</td>\n",
       "      <td>0363-5465</td>\n",
       "      <td>American Journal of Sports Medicine</td>\n",
       "      <td>2025-02-18 22:12:49.222</td>\n",
       "      <td>NaN</td>\n",
       "      <td>8.521673e+10</td>\n",
       "      <td>Osteochondral Fractures in Adolescents With Fi...</td>\n",
       "      <td>2025</td>\n",
       "      <td>PubMed:  39876595 // QABO:  85216732787</td>\n",
       "    </tr>\n",
       "    <tr>\n",
       "      <th>310</th>\n",
       "      <td>310</td>\n",
       "      <td>2080881563</td>\n",
       "      <td>2025-02-18 06:30:09.656</td>\n",
       "      <td>10.1177/03635465241312215</td>\n",
       "      <td>0363-5465</td>\n",
       "      <td>American Journal of Sports Medicine</td>\n",
       "      <td>2025-03-11 08:42:10.782</td>\n",
       "      <td>NaN</td>\n",
       "      <td>8.521673e+10</td>\n",
       "      <td>Descriptive Epidemiology of Complete ACL Tears...</td>\n",
       "      <td>2025</td>\n",
       "      <td>PubMed:  39876031 // QABO:  85216734194</td>\n",
       "    </tr>\n",
       "    <tr>\n",
       "      <th>...</th>\n",
       "      <td>...</td>\n",
       "      <td>...</td>\n",
       "      <td>...</td>\n",
       "      <td>...</td>\n",
       "      <td>...</td>\n",
       "      <td>...</td>\n",
       "      <td>...</td>\n",
       "      <td>...</td>\n",
       "      <td>...</td>\n",
       "      <td>...</td>\n",
       "      <td>...</td>\n",
       "      <td>...</td>\n",
       "    </tr>\n",
       "    <tr>\n",
       "      <th>151988</th>\n",
       "      <td>151988</td>\n",
       "      <td>16460756</td>\n",
       "      <td>2019-03-20 19:06:18.124</td>\n",
       "      <td>10.1016/j.cgh.2016.06.008</td>\n",
       "      <td>1542-3565</td>\n",
       "      <td>Clinical Gastroenterology and Hepatology</td>\n",
       "      <td>2025-02-04 09:51:31.948</td>\n",
       "      <td>NaN</td>\n",
       "      <td>8.499461e+10</td>\n",
       "      <td>HBV-Associated Acute Liver Failure After Immun...</td>\n",
       "      <td>2017</td>\n",
       "      <td>PubMedCentral:  PMC6055519 // QABO:  849946081...</td>\n",
       "    </tr>\n",
       "    <tr>\n",
       "      <th>153738</th>\n",
       "      <td>153738</td>\n",
       "      <td>16351713</td>\n",
       "      <td>2019-03-20 18:44:57.512</td>\n",
       "      <td>NaN</td>\n",
       "      <td>1205-6626</td>\n",
       "      <td>Experimental and Clinical Cardiology</td>\n",
       "      <td>2025-01-01 02:08:12.584</td>\n",
       "      <td>NaN</td>\n",
       "      <td>8.490677e+10</td>\n",
       "      <td>Elevated Troponin-I in association with autoim...</td>\n",
       "      <td>2014</td>\n",
       "      <td>QABO:  84906766120</td>\n",
       "    </tr>\n",
       "    <tr>\n",
       "      <th>153950</th>\n",
       "      <td>153950</td>\n",
       "      <td>16340780</td>\n",
       "      <td>2019-03-20 18:42:31.407</td>\n",
       "      <td>10.1016/j.jhsa.2012.12.020</td>\n",
       "      <td>0363-5023</td>\n",
       "      <td>Journal of Hand Surgery</td>\n",
       "      <td>2025-03-04 23:56:11.013</td>\n",
       "      <td>NaN</td>\n",
       "      <td>8.487465e+10</td>\n",
       "      <td>Supercharge nerve transfer to enhance motor re...</td>\n",
       "      <td>2013</td>\n",
       "      <td>PubMedCentral:  PMC3583195 // QABO:  848746509...</td>\n",
       "    </tr>\n",
       "    <tr>\n",
       "      <th>160651</th>\n",
       "      <td>160651</td>\n",
       "      <td>15937552</td>\n",
       "      <td>2019-03-20 17:07:15.098</td>\n",
       "      <td>10.1038/nrrheum.2015.83</td>\n",
       "      <td>1759-4790</td>\n",
       "      <td>Nature Reviews Rheumatology</td>\n",
       "      <td>2025-01-09 18:50:33.545</td>\n",
       "      <td>NaN</td>\n",
       "      <td>8.493842e+10</td>\n",
       "      <td>Biomarkers of response to TNF inhibition in RA</td>\n",
       "      <td>2015</td>\n",
       "      <td>QABO:  84938420746 // PubMed:  26077919</td>\n",
       "    </tr>\n",
       "    <tr>\n",
       "      <th>163569</th>\n",
       "      <td>163569</td>\n",
       "      <td>15751503</td>\n",
       "      <td>2019-03-20 16:26:31.16</td>\n",
       "      <td>10.3233/WOR-2010-1045</td>\n",
       "      <td>1051-9815</td>\n",
       "      <td>Work</td>\n",
       "      <td>2025-01-09 04:08:52.139</td>\n",
       "      <td>NaN</td>\n",
       "      <td>7.795631e+10</td>\n",
       "      <td>Feasibility of using the EFPT to detect execut...</td>\n",
       "      <td>2010</td>\n",
       "      <td>QABO:  77956307551 // PubMed:  20714096</td>\n",
       "    </tr>\n",
       "  </tbody>\n",
       "</table>\n",
       "<p>133 rows × 12 columns</p>\n",
       "</div>"
      ],
      "text/plain": [
       "        Unnamed: 0     Pure ID             Created date  \\\n",
       "60              60  2149420450  2025-03-11 06:33:33.797   \n",
       "137            137  2097874378  2025-02-25 13:16:44.131   \n",
       "188            188  2095172247  2025-02-25 06:46:47.607   \n",
       "307            307  2080881783   2025-02-18 06:30:14.08   \n",
       "310            310  2080881563  2025-02-18 06:30:09.656   \n",
       "...            ...         ...                      ...   \n",
       "151988      151988    16460756  2019-03-20 19:06:18.124   \n",
       "153738      153738    16351713  2019-03-20 18:44:57.512   \n",
       "153950      153950    16340780  2019-03-20 18:42:31.407   \n",
       "160651      160651    15937552  2019-03-20 17:07:15.098   \n",
       "163569      163569    15751503   2019-03-20 16:26:31.16   \n",
       "\n",
       "       DOIs (Digital Object Identifiers) Journal ISSN  \\\n",
       "60         10.1080/13803395.2025.2464633    1380-3395   \n",
       "137           10.1016/j.adro.2023.101350          NaN   \n",
       "188           10.1007/s12178-024-09943-6    1935-973X   \n",
       "307            10.1177/03635465241313135    0363-5465   \n",
       "310            10.1177/03635465241312215    0363-5465   \n",
       "...                                  ...          ...   \n",
       "151988         10.1016/j.cgh.2016.06.008    1542-3565   \n",
       "153738                               NaN    1205-6626   \n",
       "153950        10.1016/j.jhsa.2012.12.020    0363-5023   \n",
       "160651           10.1038/nrrheum.2015.83    1759-4790   \n",
       "163569             10.3233/WOR-2010-1045    1051-9815   \n",
       "\n",
       "                                            Journal title  \\\n",
       "60      Journal of Clinical and Experimental Neuropsyc...   \n",
       "137                        Advances in Radiation Oncology   \n",
       "188           Current Reviews in Musculoskeletal Medicine   \n",
       "307                   American Journal of Sports Medicine   \n",
       "310                   American Journal of Sports Medicine   \n",
       "...                                                   ...   \n",
       "151988           Clinical Gastroenterology and Hepatology   \n",
       "153738               Experimental and Clinical Cardiology   \n",
       "153950                            Journal of Hand Surgery   \n",
       "160651                        Nature Reviews Rheumatology   \n",
       "163569                                               Work   \n",
       "\n",
       "             Last modified date Publisher  Publication import ID  \\\n",
       "60      2025-03-12 01:18:39.655       NaN           8.521825e+10   \n",
       "137     2025-02-28 13:24:20.432       NaN           8.517293e+10   \n",
       "188     2025-02-26 06:13:15.968       NaN           8.521727e+10   \n",
       "307     2025-02-18 22:12:49.222       NaN           8.521673e+10   \n",
       "310     2025-03-11 08:42:10.782       NaN           8.521673e+10   \n",
       "...                         ...       ...                    ...   \n",
       "151988  2025-02-04 09:51:31.948       NaN           8.499461e+10   \n",
       "153738  2025-01-01 02:08:12.584       NaN           8.490677e+10   \n",
       "153950  2025-03-04 23:56:11.013       NaN           8.487465e+10   \n",
       "160651  2025-01-09 18:50:33.545       NaN           8.493842e+10   \n",
       "163569  2025-01-09 04:08:52.139       NaN           7.795631e+10   \n",
       "\n",
       "                                                    Title  Year  \\\n",
       "60      Usability of the Mayo Test Drive remote self-a...  2025   \n",
       "137     An Integrative Medicine Educational Program fo...  2024   \n",
       "188     Navigating the Complexities of Range of Motion...  2025   \n",
       "307     Osteochondral Fractures in Adolescents With Fi...  2025   \n",
       "310     Descriptive Epidemiology of Complete ACL Tears...  2025   \n",
       "...                                                   ...   ...   \n",
       "151988  HBV-Associated Acute Liver Failure After Immun...  2017   \n",
       "153738  Elevated Troponin-I in association with autoim...  2014   \n",
       "153950  Supercharge nerve transfer to enhance motor re...  2013   \n",
       "160651     Biomarkers of response to TNF inhibition in RA  2015   \n",
       "163569  Feasibility of using the EFPT to detect execut...  2010   \n",
       "\n",
       "                                    Additional source IDs  \n",
       "60                PubMed:  39976252 // QABO:  85218252595  \n",
       "137                                                   NaN  \n",
       "188               PubMed:  39779596 // QABO:  85217266695  \n",
       "307               PubMed:  39876595 // QABO:  85216732787  \n",
       "310               PubMed:  39876031 // QABO:  85216734194  \n",
       "...                                                   ...  \n",
       "151988  PubMedCentral:  PMC6055519 // QABO:  849946081...  \n",
       "153738                                 QABO:  84906766120  \n",
       "153950  PubMedCentral:  PMC3583195 // QABO:  848746509...  \n",
       "160651            QABO:  84938420746 // PubMed:  26077919  \n",
       "163569            QABO:  77956307551 // PubMed:  20714096  \n",
       "\n",
       "[133 rows x 12 columns]"
      ]
     },
     "execution_count": 65,
     "metadata": {},
     "output_type": "execute_result"
    }
   ],
   "source": [
    "missing_ros\n"
   ]
  },
  {
   "cell_type": "markdown",
   "id": "06a49719",
   "metadata": {},
   "source": [
    "# add persons data"
   ]
  },
  {
   "cell_type": "code",
   "execution_count": 20,
   "id": "38732a89",
   "metadata": {},
   "outputs": [],
   "source": [
    "persons = pd.read_csv(\"/Users/e.schwartz/Documents/profiles/qabo_job_logs/20250327_ros/persons.csv\")"
   ]
  },
  {
   "cell_type": "code",
   "execution_count": 21,
   "id": "b98526a6",
   "metadata": {},
   "outputs": [
    {
     "data": {
      "text/html": [
       "<div>\n",
       "<style scoped>\n",
       "    .dataframe tbody tr th:only-of-type {\n",
       "        vertical-align: middle;\n",
       "    }\n",
       "\n",
       "    .dataframe tbody tr th {\n",
       "        vertical-align: top;\n",
       "    }\n",
       "\n",
       "    .dataframe thead th {\n",
       "        text-align: right;\n",
       "    }\n",
       "</style>\n",
       "<table border=\"1\" class=\"dataframe\">\n",
       "  <thead>\n",
       "    <tr style=\"text-align: right;\">\n",
       "      <th></th>\n",
       "      <th>Pure ID</th>\n",
       "      <th>Person</th>\n",
       "    </tr>\n",
       "  </thead>\n",
       "  <tbody>\n",
       "    <tr>\n",
       "      <th>0</th>\n",
       "      <td>2195534740</td>\n",
       "      <td>Schlarman, Maggie</td>\n",
       "    </tr>\n",
       "    <tr>\n",
       "      <th>1</th>\n",
       "      <td>2195534711</td>\n",
       "      <td>Sanz, Crickette</td>\n",
       "    </tr>\n",
       "    <tr>\n",
       "      <th>2</th>\n",
       "      <td>2195534658</td>\n",
       "      <td>Wang, Jian</td>\n",
       "    </tr>\n",
       "    <tr>\n",
       "      <th>3</th>\n",
       "      <td>2195534635</td>\n",
       "      <td>Roediger, Roddy</td>\n",
       "    </tr>\n",
       "    <tr>\n",
       "      <th>4</th>\n",
       "      <td>2195534591</td>\n",
       "      <td>Zhang, Chuanwei</td>\n",
       "    </tr>\n",
       "    <tr>\n",
       "      <th>...</th>\n",
       "      <td>...</td>\n",
       "      <td>...</td>\n",
       "    </tr>\n",
       "    <tr>\n",
       "      <th>200668</th>\n",
       "      <td>15449265</td>\n",
       "      <td>Crane, James // Gray, Diana</td>\n",
       "    </tr>\n",
       "    <tr>\n",
       "      <th>200669</th>\n",
       "      <td>15448952</td>\n",
       "      <td>Gordon, J. Eric</td>\n",
       "    </tr>\n",
       "    <tr>\n",
       "      <th>200670</th>\n",
       "      <td>15448902</td>\n",
       "      <td>Black, Kevin</td>\n",
       "    </tr>\n",
       "    <tr>\n",
       "      <th>200671</th>\n",
       "      <td>15448881</td>\n",
       "      <td>Lustman, Patrick</td>\n",
       "    </tr>\n",
       "    <tr>\n",
       "      <th>200672</th>\n",
       "      <td>15448869</td>\n",
       "      <td>Price, Rumi</td>\n",
       "    </tr>\n",
       "  </tbody>\n",
       "</table>\n",
       "<p>200673 rows × 2 columns</p>\n",
       "</div>"
      ],
      "text/plain": [
       "           Pure ID                       Person\n",
       "0       2195534740            Schlarman, Maggie\n",
       "1       2195534711              Sanz, Crickette\n",
       "2       2195534658                   Wang, Jian\n",
       "3       2195534635              Roediger, Roddy\n",
       "4       2195534591              Zhang, Chuanwei\n",
       "...            ...                          ...\n",
       "200668    15449265  Crane, James // Gray, Diana\n",
       "200669    15448952              Gordon, J. Eric\n",
       "200670    15448902                 Black, Kevin\n",
       "200671    15448881             Lustman, Patrick\n",
       "200672    15448869                  Price, Rumi\n",
       "\n",
       "[200673 rows x 2 columns]"
      ]
     },
     "execution_count": 21,
     "metadata": {},
     "output_type": "execute_result"
    }
   ],
   "source": [
    "persons"
   ]
  },
  {
   "cell_type": "code",
   "execution_count": 22,
   "id": "8bff0e6a",
   "metadata": {},
   "outputs": [],
   "source": [
    "\n",
    "    \n",
    "missing_ros = missing_ros.merge(persons[['Pure ID', 'Person']], on = 'Pure ID')"
   ]
  },
  {
   "cell_type": "code",
   "execution_count": 23,
   "id": "480a69ef",
   "metadata": {},
   "outputs": [],
   "source": [
    "missing_ros.to_csv('missing_ros_20250417_persons.csv')"
   ]
  },
  {
   "cell_type": "code",
   "execution_count": null,
   "id": "3a3dfd0c",
   "metadata": {},
   "outputs": [],
   "source": []
  }
 ],
 "metadata": {
  "kernelspec": {
   "display_name": "Python 3 (ipykernel)",
   "language": "python",
   "name": "python3"
  },
  "language_info": {
   "codemirror_mode": {
    "name": "ipython",
    "version": 3
   },
   "file_extension": ".py",
   "mimetype": "text/x-python",
   "name": "python",
   "nbconvert_exporter": "python",
   "pygments_lexer": "ipython3",
   "version": "3.9.17"
  }
 },
 "nbformat": 4,
 "nbformat_minor": 5
}
